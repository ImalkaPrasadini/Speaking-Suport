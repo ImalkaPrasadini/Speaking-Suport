{
 "cells": [
  {
   "cell_type": "code",
   "execution_count": null,
   "metadata": {},
   "outputs": [],
   "source": [
    "import pandas as pd\n",
    "import numpy as np\n",
    "from nltk.tokenize import word_tokenize\n",
    "from nltk import pos_tag\n",
    "from nltk.corpus import stopwords\n",
    "from nltk.stem import WordNetLemmatizer\n",
    "from sklearn.preprocessing import LabelEncoder\n",
    "from collections import defaultdict\n",
    "from nltk.corpus import wordnet as wn\n",
    "from sklearn.feature_extraction.text import TfidfVectorizer\n",
    "from sklearn import model_selection, naive_bayes, svm\n",
    "from sklearn.metrics import accuracy_score\n"
   ]
  },
  {
   "cell_type": "code",
   "execution_count": 21,
   "metadata": {},
   "outputs": [],
   "source": [
    "#Set Random seed\n",
    "# np.random.seed(500)\n",
    "\n",
    "# Add the Data using pandas\n",
    "df = pd.read_csv(r\"F:\\project\\Text-Classification-master\\Copy of corpus.csv\",encoding='latin-1')\n",
    "\n"
   ]
  },
  {
   "cell_type": "code",
   "execution_count": 22,
   "metadata": {},
   "outputs": [
    {
     "data": {
      "text/html": [
       "<div>\n",
       "<style scoped>\n",
       "    .dataframe tbody tr th:only-of-type {\n",
       "        vertical-align: middle;\n",
       "    }\n",
       "\n",
       "    .dataframe tbody tr th {\n",
       "        vertical-align: top;\n",
       "    }\n",
       "\n",
       "    .dataframe thead th {\n",
       "        text-align: right;\n",
       "    }\n",
       "</style>\n",
       "<table border=\"1\" class=\"dataframe\">\n",
       "  <thead>\n",
       "    <tr style=\"text-align: right;\">\n",
       "      <th></th>\n",
       "      <th>text</th>\n",
       "      <th>lable</th>\n",
       "    </tr>\n",
       "  </thead>\n",
       "  <tbody>\n",
       "    <tr>\n",
       "      <th>0</th>\n",
       "      <td>Bowling is a target sport</td>\n",
       "      <td>1</td>\n",
       "    </tr>\n",
       "    <tr>\n",
       "      <th>1</th>\n",
       "      <td>Recreational activity</td>\n",
       "      <td>1</td>\n",
       "    </tr>\n",
       "    <tr>\n",
       "      <th>2</th>\n",
       "      <td>Bowling</td>\n",
       "      <td>1</td>\n",
       "    </tr>\n",
       "    <tr>\n",
       "      <th>3</th>\n",
       "      <td>Recreational activity in which a player rolls</td>\n",
       "      <td>0</td>\n",
       "    </tr>\n",
       "    <tr>\n",
       "      <th>4</th>\n",
       "      <td>Ball toward pins or another target</td>\n",
       "      <td>1</td>\n",
       "    </tr>\n",
       "  </tbody>\n",
       "</table>\n",
       "</div>"
      ],
      "text/plain": [
       "                                             text  lable\n",
       "0                      Bowling is a target sport       1\n",
       "1                           Recreational activity      1\n",
       "2                                        Bowling       1\n",
       "3  Recreational activity in which a player rolls       0\n",
       "4              Ball toward pins or another target      1"
      ]
     },
     "execution_count": 22,
     "metadata": {},
     "output_type": "execute_result"
    }
   ],
   "source": [
    "df.head()"
   ]
  },
  {
   "cell_type": "code",
   "execution_count": 23,
   "metadata": {},
   "outputs": [
    {
     "data": {
      "image/png": "[encoded data removed]",
      "text/plain": [
       "<Figure size 432x288 with 1 Axes>"
      ]
     },
     "metadata": {
      "needs_background": "light"
     },
     "output_type": "display_data"
    }
   ],
   "source": [
    "%matplotlib inline\n",
    "from matplotlib import pyplot as plt\n",
    "import seaborn as sns\n",
    "\n",
    "CSV_FILE = pd.read_csv('Copy of corpus.csv')\n",
    "plt.rcParams['font.sans-serif']= \"cmr10\"\n",
    "sns.countplot(x='lable',hue='lable',data=CSV_FILE)\n",
    "plt.show()"
   ]
  },
  {
   "cell_type": "code",
   "execution_count": 24,
   "metadata": {},
   "outputs": [],
   "source": [
    "from sklearn.model_selection import train_test_split\n",
    "\n",
    "X_train, X_test, y_train, y_test = train_test_split(df.text, df.lable, test_size=0.3)"
   ]
  },
  {
   "cell_type": "code",
   "execution_count": 25,
   "metadata": {},
   "outputs": [],
   "source": [
    "vectorizer = TfidfVectorizer()\n",
    "X_train = vectorizer.fit_transform(X_train)\n",
    "X_test = vectorizer.transform(X_test)"
   ]
  },
  {
   "cell_type": "code",
   "execution_count": 26,
   "metadata": {},
   "outputs": [
    {
     "name": "stdout",
     "output_type": "stream",
     "text": [
      "{'calculations': 70, 'magnetic': 246, 'field': 174, 'evidence': 158, 'prototypes': 320, 'centre': 78, 'demonstrates': 122, 'thin': 412, 'piece': 297, 'of': 273, 'rectangular': 328, 'edgier': 143, 'knocked': 224, 'down': 137, 'on': 277, 'the': 406, 'first': 176, 'roll': 344, 'this': 414, 'practice': 309, 'was': 449, 'halted': 202, 'ten': 401, 'pin': 299, 'bowling': 56, 'gained': 191, 'only': 279, 'one': 278, 'advantage': 11, 'terrible': 403, 'lizard': 239, 'dinosaurs': 133, 'prototype': 319, 'robots': 343, 'saw': 352, 'widespread': 457, 'belong': 50, 'to': 419, 'barnstaple': 43, 'carving': 75, 'out': 283, 'far': 169, 'adjacent': 10, 'cables': 69, 'pilot': 298, 'gig': 195, 'club': 92, 'poverty': 308, 'fans': 168, 'produce': 313, 'swimming': 396, 'pool': 304, 'and': 24, 'rising': 342, 'crime': 114, 'ball': 41, 'toward': 422, 'pins': 300, 'or': 281, 'another': 27, 'target': 399, 'structure': 389, 'can': 72, 'dissipate': 135, 'coalition': 93, 'partners': 288, 'in': 214, 'old': 276, 'days': 119, 'philadelphia': 296, 'unconsciously': 432, 'recognize': 326, 'cinched': 85, 'hall': 201, 'effect': 145, 'sensors': 358, 'rootsteins': 347, 'growing': 199, 'body': 55, 'three': 417, 'dimensions': 131, 'transition': 425, 'united': 434, 'states': 382, 'high': 206, 'volume': 444, 'ability': 2, 'essentially': 156, 'like': 237, 'fruit': 190, 'rotate': 348, 'when': 453, 'exposed': 164, 'refer': 329, 'lawn': 231, 'bowls': 57, 'addition': 9, 'zoo': 468, 'lizards': 240, 'at': 35, 'all': 17, 'provide': 321, 'voters': 446, 'silhouette': 366, 'circulation': 87, 'create': 112, 'parameters': 284, 'sinuous': 369, 'backbones': 40, 'superorders': 392, 'amongst': 20, 'parties': 287, 'may': 252, 'be': 45, 'more': 259, 'representative': 334, 'fraction': 188, 'vertebrates': 439, 'including': 215, 'transportation': 426, 'represents': 335, 'national': 263, 'consensus': 102, 'time': 418, 'space': 374, 'mini': 254, 'elections': 148, 'become': 46, 'competitive': 99, 'sport': 379, 'disillusioned': 134, 'american': 19, 'cities': 88, 'viable': 441, 'option': 280, 'air': 15, 'flows': 179, 'with': 459, 'each': 141, 'cycle': 117, 'progressively': 317, 'stronger': 387, 'they': 410, 'were': 451, 'also': 18, 'used': 435, 'as': 33, 'lifeboats': 236, 'streamlined': 385, 'landscape': 227, 'its': 221, 'mission': 256, 'mmp': 257, 'attempts': 36, 'called': 71, 'every': 157, 'move': 260, 'sidewards': 365, 'for': 184, 'producing': 315, 'created': 113, 'great': 197, 'progress': 316, 'made': 245, 'five': 178, 'main': 247, 'classes': 90, 'research': 338, 'development': 126, 'waist': 447, 'colonies': 94, 'dinosaur': 132, 'attitude': 37, 'second': 356, 'those': 415, 'convicted': 109, 'lane': 228, 'female': 173, 'fashion': 170, 'reporter': 333, 'hundred': 211, 'user': 436, 'access': 4, 'educate': 144, 'entertain': 153, 'ssource': 381, 'labour': 226, 'any': 28, 'revolving': 340, 'vane': 438, 'spare': 376, 'is': 220, 'achieved': 6, 'pools': 305, 'audi': 38, 'espana': 155, 'suspender': 395, 'recreational': 327, 'activity': 8, 'drawbacks': 139, 'system': 397, 'fan': 167, 'blade': 53, 'semiconductor': 357, 'material': 251, 'effortlessly': 147, 'navigate': 265, 'exactly': 159, 'what': 452, 'announce': 26, 'an': 22, 'incoming': 216, 'existence': 163, 'skeletal': 370, 'anatomy': 23, 'accrue': 5, 'centrist': 80, 'new': 267, 'zealandâ': 466, 'crimes': 115, 'faced': 165, 'harsh': 203, 'penalties': 293, 'really': 324, 'skinny': 371, 'consistent': 106, 'decades': 120, 'enough': 152, 'support': 393, 'center': 77, 'class': 89, 'reptilia': 337, 'many': 249, 'zealanders': 465, 'shortcomings': 363, 'these': 409, '16': 0, 'per': 294, 'cent': 76, 'telephone': 400, 'number': 272, 'awareness': 39, 'patterns': 292, 'pressures': 311, 'royal': 350, 'commission': 96, 'subsequently': 390, 'seat': 354, 'service': 359, 'take': 398, 'sailing': 351, 'archosaurs': 30, 'unconscious': 431, 'theyâ': 411, 're': 323, 'traditional': 423, 'particular': 286, 'problem': 312, 'passed': 291, 'favour': 171, 'reform': 332, 'bridgeâ': 60, 'assured': 34, 'destroy': 125, 'torsional': 421, 'mode': 258, 'benefits': 51, 'company': 97, 'britain': 61, 'years': 464, 'later': 230, 'wind': 458, 'turbines': 427, 'which': 454, 'player': 303, 'rolls': 345, 'neutralizing': 266, 'structural': 388, 'damping': 118, 'effects': 146, 'now': 271, 'rowing': 349, 'seats': 355, 'parliament': 285, 'former': 186, 'plant': 302, 'mannequin': 248, 'design': 123, 'very': 440, 'special': 378, 'type': 429, 'boat': 54, 'suggests': 391, 'changing': 82, 'fluid': 180, 'stream': 384, 'within': 460, 'spaces': 375, 'volkswagen': 443, 'local': 241, 'produced': 314, 'between': 52, 'two': 428, 'sides': 364, 'range': 322, 'sports': 380, 'compartmentalized': 98, 'if': 213, 'buildings': 66, 'are': 31, 'divided': 136, 'work': 461, 'electrons': 150, 'holes': 207, 'cincinnati': 86, 'there': 408, 'zoos': 469, 'set': 360, 'actions': 7, 'beefcake': 48, 'figure': 175, 'generating': 192, 'microphone': 253, 'vote': 445, 'leading': 232, 'third': 413, 'party': 290, 'dying': 140, 'consequence': 103, 'oscillations': 282, 'feed': 172, 'off': 274, 'hosts': 209, 'facilities': 166, 'late': 229, 'nineteenth': 269, 'century': 81, 'charge': 83, 'carriers': 74, 'breaking': 59, 'designs': 124, 'similar': 367, 'that': 405, 'brain': 58, 'containing': 108, 'becomes': 47, 'embodied': 151, 'ideas': 212, 'fluttering': 182, 'building': 65, 'often': 275, 'took': 420, 'hours': 210, 'than': 404, 'devices': 128, 'their': 407, 'share': 361, 'locks': 242, 'burglar': 67, 'alarms': 16, 'vibration': 442, 'individual': 217, 'rooms': 346, 'fpp': 187, 'proportionate': 318, 'excessive': 160, 'strain': 383, 'uninitiated': 433, 'referendum': 330, 'held': 205, 'could': 110, 'just': 222, 'walk': 448, 'though': 416, 'kingdom': 223, 'industrial': 218, 'complex': 100, 'martorell': 250, 'bar': 42, 'entry': 154, 'aerostatic': 12, 'animals': 25, 'reptiles': 336, 'strike': 386, 'homme': 208, 'received': 325, 'considerable': 104, 'unable': 430, 'weight': 450, 'ships': 362, 'coming': 95, 'into': 219, 'port': 306, 'electorate': 149, 'candidate': 73, 'performing': 295, 'countless': 111, 'buckled': 63, 'different': 130, 'flutter': 181, 'genuine': 193, 'parts': 289, 'next': 268, 'level': 235, 'classification': 91, 'would': 463, 'have': 204, 'been': 49, 'consist': 105, 'basically': 44, 'potential': 307, 'difference': 129, 'led': 233, 'scientists': 353, 'archosauria': 29, 'nouveau': 270, 'deck': 121, 'amplitude': 21, 'agricultural': 13, 'nation': 262, 'working': 462, 'grew': 198, 'broad': 62, 'nationally': 264, 'about': 3, '30': 1, 'foot': 183, 'long': 243, 'contain': 107, 'ringer': 341, 'child': 84, 'sometimes': 373, 'aid': 14, 'speak': 377, 'earphone': 142, 'transferred': 424, 'by': 68, 'zones': 467, 'device': 127, 'placed': 301, 'term': 402, 'usually': 437, 'refers': 331, 'while': 455, 'whole': 456, 'lines': 238, 'exert': 162, 'force': 185, 'gyms': 200, 'low': 244, 'pressure': 310, 'gigs': 196, 'build': 64, 'movements': 261, 'single': 368, 'geographical': 194, 'area': 32, 'computers': 101, 'missing': 255, 'some': 372, 'exercise': 161, 'currents': 116, 'lepidosauria': 234, 'fitness': 177, 'centres': 79, 'surface': 394, 'known': 225, 'results': 339, 'from': 189, 'dozens': 138}\n"
     ]
    }
   ],
   "source": [
    "print(vectorizer.vocabulary_)"
   ]
  },
  {
   "cell_type": "code",
   "execution_count": 27,
   "metadata": {},
   "outputs": [
    {
     "name": "stdout",
     "output_type": "stream",
     "text": [
      "  (0, 70)\t1.0\n",
      "  (1, 174)\t0.7071067811865476\n",
      "  (1, 246)\t0.7071067811865476\n",
      "  (2, 158)\t1.0\n",
      "  (3, 78)\t0.6818744738848203\n",
      "  (3, 320)\t0.7314692077348846\n",
      "  (4, 122)\t1.0\n",
      "  (5, 328)\t0.5463598302360265\n",
      "  (5, 273)\t0.32322253589961986\n",
      "  (5, 297)\t0.5463598302360265\n",
      "  (5, 412)\t0.5463598302360265\n",
      "  (6, 143)\t1.0\n",
      "  (7, 344)\t0.4168823632553065\n",
      "  (7, 176)\t0.4168823632553065\n",
      "  (7, 406)\t0.2290096807464935\n",
      "  (7, 277)\t0.4472034423457742\n",
      "  (7, 137)\t0.4472034423457742\n",
      "  (7, 224)\t0.4472034423457742\n",
      "  (8, 202)\t0.5150719023745267\n",
      "  (8, 449)\t0.4367863513369254\n",
      "  (8, 309)\t0.5525345951284806\n",
      "  (8, 414)\t0.48849169886116617\n",
      "  (9, 56)\t0.5547759071544114\n",
      "  (9, 299)\t0.575496235977479\n",
      "  (9, 401)\t0.6008558689209532\n",
      "  :\t:\n",
      "  (279, 194)\t0.5773502691896258\n",
      "  (279, 368)\t0.5773502691896258\n",
      "  (280, 255)\t0.5995855161150406\n",
      "  (280, 101)\t0.5995855161150406\n",
      "  (280, 31)\t0.5300890658465995\n",
      "  (281, 161)\t0.7071067811865476\n",
      "  (281, 372)\t0.7071067811865476\n",
      "  (282, 116)\t0.6849312497499015\n",
      "  (282, 15)\t0.6055425899904614\n",
      "  (282, 273)\t0.40520038847918416\n",
      "  (283, 218)\t0.7523297419219678\n",
      "  (283, 278)\t0.6587867328806989\n",
      "  (284, 149)\t0.7626876037778775\n",
      "  (284, 354)\t0.646767051606341\n",
      "  (285, 234)\t1.0\n",
      "  (286, 460)\t0.5569693077221534\n",
      "  (286, 174)\t0.587275570007601\n",
      "  (286, 246)\t0.587275570007601\n",
      "  (287, 79)\t0.7071067811865476\n",
      "  (287, 177)\t0.7071067811865476\n",
      "  (288, 225)\t0.7071067811865476\n",
      "  (288, 394)\t0.7071067811865476\n",
      "  (289, 138)\t0.5773502691896258\n",
      "  (289, 189)\t0.5773502691896258\n",
      "  (289, 339)\t0.5773502691896258\n"
     ]
    }
   ],
   "source": [
    "print(X_train)"
   ]
  },
  {
   "cell_type": "code",
   "execution_count": 28,
   "metadata": {},
   "outputs": [
    {
     "name": "stdout",
     "output_type": "stream",
     "text": [
      "108    0\n",
      "76     0\n",
      "347    0\n",
      "184    0\n",
      "233    0\n",
      "      ..\n",
      "313    1\n",
      "60     0\n",
      "138    0\n",
      "26     0\n",
      "205    1\n",
      "Name: lable, Length: 290, dtype: int64\n"
     ]
    }
   ],
   "source": [
    "print(y_train)"
   ]
  },
  {
   "cell_type": "code",
   "execution_count": 29,
   "metadata": {},
   "outputs": [
    {
     "name": "stdout",
     "output_type": "stream",
     "text": [
      "  (0, 77)\t1.0\n",
      "  (1, 419)\t0.42451628799393776\n",
      "  (1, 156)\t0.6402288345692687\n",
      "  (1, 2)\t0.6402288345692687\n",
      "  (2, 181)\t0.7071067811865476\n",
      "  (2, 12)\t0.7071067811865476\n",
      "  (4, 469)\t0.5859337097915406\n",
      "  (4, 406)\t0.3218761541509306\n",
      "  (4, 273)\t0.7436917567910303\n",
      "  (5, 273)\t0.39714268569575784\n",
      "  (5, 32)\t0.6713108964766001\n",
      "  (5, 22)\t0.6257949883709073\n",
      "  (6, 356)\t0.508394651465946\n",
      "  (6, 344)\t0.4739247145723231\n",
      "  (6, 277)\t0.508394651465946\n",
      "  (6, 224)\t0.508394651465946\n",
      "  (7, 406)\t0.29564575190996256\n",
      "  (7, 261)\t0.5773284235761043\n",
      "  (7, 219)\t0.5381846712368921\n",
      "  (7, 60)\t0.5381846712368921\n",
      "  (8, 458)\t1.0\n",
      "  (9, 28)\t1.0\n",
      "  (10, 190)\t1.0\n",
      "  (11, 419)\t0.6304970809137131\n",
      "  (11, 33)\t0.7761916200006842\n",
      "  :\t:\n",
      "  (105, 446)\t0.49689115363652836\n",
      "  (105, 321)\t0.5330315071192687\n",
      "  (105, 27)\t0.49689115363652836\n",
      "  (107, 451)\t0.7071067811865476\n",
      "  (107, 410)\t0.7071067811865476\n",
      "  (108, 24)\t1.0\n",
      "  (109, 157)\t1.0\n",
      "  (110, 406)\t0.34047047256267815\n",
      "  (110, 83)\t0.6648608340521145\n",
      "  (110, 74)\t0.6648608340521145\n",
      "  (111, 394)\t0.5\n",
      "  (111, 277)\t0.5\n",
      "  (111, 243)\t0.5\n",
      "  (111, 225)\t0.5\n",
      "  (114, 214)\t1.0\n",
      "  (116, 266)\t1.0\n",
      "  (117, 103)\t1.0\n",
      "  (118, 419)\t0.4718208064708633\n",
      "  (118, 285)\t0.5808486148641951\n",
      "  (118, 112)\t0.6633249680145697\n",
      "  (119, 285)\t1.0\n",
      "  (120, 406)\t1.0\n",
      "  (123, 61)\t1.0\n",
      "  (124, 281)\t0.7071067811865476\n",
      "  (124, 259)\t0.7071067811865476\n"
     ]
    }
   ],
   "source": [
    "print(X_test)"
   ]
  },
  {
   "cell_type": "code",
   "execution_count": 30,
   "metadata": {},
   "outputs": [
    {
     "name": "stdout",
     "output_type": "stream",
     "text": [
      "180    0\n",
      "225    0\n",
      "380    1\n",
      "40     0\n",
      "332    1\n",
      "      ..\n",
      "364    1\n",
      "154    0\n",
      "75     0\n",
      "156    0\n",
      "142    0\n",
      "Name: lable, Length: 125, dtype: int64\n"
     ]
    }
   ],
   "source": [
    "print(y_test)"
   ]
  },
  {
   "cell_type": "code",
   "execution_count": 31,
   "metadata": {},
   "outputs": [],
   "source": [
    "# NB Model"
   ]
  },
  {
   "cell_type": "code",
   "execution_count": 32,
   "metadata": {},
   "outputs": [],
   "source": [
    "from sklearn.naive_bayes import MultinomialNB \n",
    "from sklearn import svm \n",
    "from sklearn.linear_model import LogisticRegression  \n",
    "from sklearn.metrics import accuracy_score, precision_score, recall_score\n",
    "from sklearn.metrics import confusion_matrix \n",
    "from sklearn.metrics import classification_report\n"
   ]
  },
  {
   "cell_type": "code",
   "execution_count": 33,
   "metadata": {},
   "outputs": [],
   "source": [
    "# #fit the training dataset on the NB classifier\n",
    "# model = MultinomialNB()\n",
    "# model.fit(X_train, y_train)\n",
    "# # predict the labels on validation dataset\n",
    "# predictions = model.predict(X_test)\n",
    "# # Use accuracy_score function to get the accuracy\n",
    "# print('Naive Bayes Accuracy Score: ', accuracy_score(y_test.astype(str), predictions.astype(str)) * 100)"
   ]
  },
  {
   "cell_type": "code",
   "execution_count": 34,
   "metadata": {},
   "outputs": [],
   "source": [
    "# SVM Model"
   ]
  },
  {
   "cell_type": "code",
   "execution_count": 35,
   "metadata": {},
   "outputs": [
    {
     "name": "stdout",
     "output_type": "stream",
     "text": [
      "SVM Accuracy Score ->  84.8\n"
     ]
    }
   ],
   "source": [
    "# fit the training dataset on the classifier\n",
    "SVM = svm.SVC(C=1.0, kernel='linear', degree=3, gamma='auto')\n",
    "SVM.fit(X_train,y_train)\n",
    "# predict the labels on validation dataset\n",
    "predictions_SVM = SVM.predict(X_test)\n",
    "# Use accuracy_score function to get the accuracy\n",
    "print(\"SVM Accuracy Score -> \",accuracy_score(predictions_SVM, y_test)*100)"
   ]
  },
  {
   "cell_type": "code",
   "execution_count": null,
   "metadata": {},
   "outputs": [],
   "source": []
  },
  {
   "cell_type": "code",
   "execution_count": 36,
   "metadata": {},
   "outputs": [],
   "source": [
    "# Testing Some Text Data"
   ]
  },
  {
   "cell_type": "code",
   "execution_count": 37,
   "metadata": {},
   "outputs": [],
   "source": [
    "# importing libraries\n",
    "import speech_recognition as sr\n",
    "import os\n",
    "from pydub import AudioSegment\n",
    "from pydub.silence import split_on_silence"
   ]
  },
  {
   "cell_type": "code",
   "execution_count": 38,
   "metadata": {},
   "outputs": [
    {
     "name": "stdout",
     "output_type": "stream",
     "text": [
      "working on...\n",
      "bowling is the target sport and recreational activity in which a player rolls a ball toward pins or another targets the term bowling usually refers to ten pin bowling though in the United Kingdom and Commonwealth countries bowling could also refer to learn balls in pin bowling the girl is not over penis on a long playing service known as the lane a strike is achieved when all the pain the end of down on the first ball and a square is achieved if all the pins are not over on a second draught\n"
     ]
    }
   ],
   "source": [
    "import speech_recognition as sr\n",
    "\n",
    "r = sr.Recognizer()\n",
    "\n",
    "with sr.AudioFile('S1_P1_F.wav') as source:\n",
    "    audio = r.listen(source)\n",
    "    try:\n",
    "       text = r.recognize_google(audio)\n",
    "       print('working on...')\n",
    "       print(text)\n",
    "    except:\n",
    "       print('Sorry...run again...')"
   ]
  },
  {
   "cell_type": "code",
   "execution_count": 42,
   "metadata": {},
   "outputs": [
    {
     "ename": "ValueError",
     "evalue": "could not convert string to float: 'bowling is the target sport and recreational activity in which a player rolls a ball toward pins or another targets the term bowling usually refers to ten pin bowling though in the United Kingdom and Commonwealth countries bowling could also refer to learn balls in pin bowling the girl is not over penis on a long playing service known as the lane a strike is achieved when all the pain the end of down on the first ball and a square is achieved if all the pins are not over on a second draught'",
     "output_type": "error",
     "traceback": [
      "\u001b[1;31m---------------------------------------------------------------------------\u001b[0m",
      "\u001b[1;31mValueError\u001b[0m                                Traceback (most recent call last)",
      "\u001b[1;32m<ipython-input-42-4f62365882f8>\u001b[0m in \u001b[0;36m<module>\u001b[1;34m\u001b[0m\n\u001b[0;32m      2\u001b[0m \u001b[0mX_test\u001b[0m\u001b[1;33m=\u001b[0m\u001b[0msentence\u001b[0m\u001b[1;33m\u001b[0m\u001b[1;33m\u001b[0m\u001b[0m\n\u001b[0;32m      3\u001b[0m \u001b[1;33m\u001b[0m\u001b[0m\n\u001b[1;32m----> 4\u001b[1;33m \u001b[0my_pred\u001b[0m \u001b[1;33m=\u001b[0m \u001b[0mSVM\u001b[0m\u001b[1;33m.\u001b[0m\u001b[0mpredict\u001b[0m\u001b[1;33m(\u001b[0m\u001b[0mX_test\u001b[0m\u001b[1;33m)\u001b[0m\u001b[1;33m\u001b[0m\u001b[1;33m\u001b[0m\u001b[0m\n\u001b[0m\u001b[0;32m      5\u001b[0m \u001b[1;31m# np.set_printoptions(precision=2) # Number of digitis of precision for floating point output (default 8).and\u001b[0m\u001b[1;33m\u001b[0m\u001b[1;33m\u001b[0m\u001b[1;33m\u001b[0m\u001b[0m\n\u001b[0;32m      6\u001b[0m \u001b[1;33m\u001b[0m\u001b[0m\n",
      "\u001b[1;32mC:\\ProgramData\\Anaconda3\\lib\\site-packages\\sklearn\\svm\\_base.py\u001b[0m in \u001b[0;36mpredict\u001b[1;34m(self, X)\u001b[0m\n\u001b[0;32m    613\u001b[0m             \u001b[0my\u001b[0m \u001b[1;33m=\u001b[0m \u001b[0mnp\u001b[0m\u001b[1;33m.\u001b[0m\u001b[0margmax\u001b[0m\u001b[1;33m(\u001b[0m\u001b[0mself\u001b[0m\u001b[1;33m.\u001b[0m\u001b[0mdecision_function\u001b[0m\u001b[1;33m(\u001b[0m\u001b[0mX\u001b[0m\u001b[1;33m)\u001b[0m\u001b[1;33m,\u001b[0m \u001b[0maxis\u001b[0m\u001b[1;33m=\u001b[0m\u001b[1;36m1\u001b[0m\u001b[1;33m)\u001b[0m\u001b[1;33m\u001b[0m\u001b[1;33m\u001b[0m\u001b[0m\n\u001b[0;32m    614\u001b[0m         \u001b[1;32melse\u001b[0m\u001b[1;33m:\u001b[0m\u001b[1;33m\u001b[0m\u001b[1;33m\u001b[0m\u001b[0m\n\u001b[1;32m--> 615\u001b[1;33m             \u001b[0my\u001b[0m \u001b[1;33m=\u001b[0m \u001b[0msuper\u001b[0m\u001b[1;33m(\u001b[0m\u001b[1;33m)\u001b[0m\u001b[1;33m.\u001b[0m\u001b[0mpredict\u001b[0m\u001b[1;33m(\u001b[0m\u001b[0mX\u001b[0m\u001b[1;33m)\u001b[0m\u001b[1;33m\u001b[0m\u001b[1;33m\u001b[0m\u001b[0m\n\u001b[0m\u001b[0;32m    616\u001b[0m         \u001b[1;32mreturn\u001b[0m \u001b[0mself\u001b[0m\u001b[1;33m.\u001b[0m\u001b[0mclasses_\u001b[0m\u001b[1;33m.\u001b[0m\u001b[0mtake\u001b[0m\u001b[1;33m(\u001b[0m\u001b[0mnp\u001b[0m\u001b[1;33m.\u001b[0m\u001b[0masarray\u001b[0m\u001b[1;33m(\u001b[0m\u001b[0my\u001b[0m\u001b[1;33m,\u001b[0m \u001b[0mdtype\u001b[0m\u001b[1;33m=\u001b[0m\u001b[0mnp\u001b[0m\u001b[1;33m.\u001b[0m\u001b[0mintp\u001b[0m\u001b[1;33m)\u001b[0m\u001b[1;33m)\u001b[0m\u001b[1;33m\u001b[0m\u001b[1;33m\u001b[0m\u001b[0m\n\u001b[0;32m    617\u001b[0m \u001b[1;33m\u001b[0m\u001b[0m\n",
      "\u001b[1;32mC:\\ProgramData\\Anaconda3\\lib\\site-packages\\sklearn\\svm\\_base.py\u001b[0m in \u001b[0;36mpredict\u001b[1;34m(self, X)\u001b[0m\n\u001b[0;32m    331\u001b[0m         \u001b[0my_pred\u001b[0m \u001b[1;33m:\u001b[0m \u001b[0mndarray\u001b[0m \u001b[0mof\u001b[0m \u001b[0mshape\u001b[0m \u001b[1;33m(\u001b[0m\u001b[0mn_samples\u001b[0m\u001b[1;33m,\u001b[0m\u001b[1;33m)\u001b[0m\u001b[1;33m\u001b[0m\u001b[1;33m\u001b[0m\u001b[0m\n\u001b[0;32m    332\u001b[0m         \"\"\"\n\u001b[1;32m--> 333\u001b[1;33m         \u001b[0mX\u001b[0m \u001b[1;33m=\u001b[0m \u001b[0mself\u001b[0m\u001b[1;33m.\u001b[0m\u001b[0m_validate_for_predict\u001b[0m\u001b[1;33m(\u001b[0m\u001b[0mX\u001b[0m\u001b[1;33m)\u001b[0m\u001b[1;33m\u001b[0m\u001b[1;33m\u001b[0m\u001b[0m\n\u001b[0m\u001b[0;32m    334\u001b[0m         \u001b[0mpredict\u001b[0m \u001b[1;33m=\u001b[0m \u001b[0mself\u001b[0m\u001b[1;33m.\u001b[0m\u001b[0m_sparse_predict\u001b[0m \u001b[1;32mif\u001b[0m \u001b[0mself\u001b[0m\u001b[1;33m.\u001b[0m\u001b[0m_sparse\u001b[0m \u001b[1;32melse\u001b[0m \u001b[0mself\u001b[0m\u001b[1;33m.\u001b[0m\u001b[0m_dense_predict\u001b[0m\u001b[1;33m\u001b[0m\u001b[1;33m\u001b[0m\u001b[0m\n\u001b[0;32m    335\u001b[0m         \u001b[1;32mreturn\u001b[0m \u001b[0mpredict\u001b[0m\u001b[1;33m(\u001b[0m\u001b[0mX\u001b[0m\u001b[1;33m)\u001b[0m\u001b[1;33m\u001b[0m\u001b[1;33m\u001b[0m\u001b[0m\n",
      "\u001b[1;32mC:\\ProgramData\\Anaconda3\\lib\\site-packages\\sklearn\\svm\\_base.py\u001b[0m in \u001b[0;36m_validate_for_predict\u001b[1;34m(self, X)\u001b[0m\n\u001b[0;32m    463\u001b[0m \u001b[1;33m\u001b[0m\u001b[0m\n\u001b[0;32m    464\u001b[0m         \u001b[1;32mif\u001b[0m \u001b[1;32mnot\u001b[0m \u001b[0mcallable\u001b[0m\u001b[1;33m(\u001b[0m\u001b[0mself\u001b[0m\u001b[1;33m.\u001b[0m\u001b[0mkernel\u001b[0m\u001b[1;33m)\u001b[0m\u001b[1;33m:\u001b[0m\u001b[1;33m\u001b[0m\u001b[1;33m\u001b[0m\u001b[0m\n\u001b[1;32m--> 465\u001b[1;33m             X = check_array(X, accept_sparse='csr', dtype=np.float64,\n\u001b[0m\u001b[0;32m    466\u001b[0m                             order=\"C\", accept_large_sparse=False)\n\u001b[0;32m    467\u001b[0m \u001b[1;33m\u001b[0m\u001b[0m\n",
      "\u001b[1;32mC:\\ProgramData\\Anaconda3\\lib\\site-packages\\sklearn\\utils\\validation.py\u001b[0m in \u001b[0;36minner_f\u001b[1;34m(*args, **kwargs)\u001b[0m\n\u001b[0;32m     70\u001b[0m                           FutureWarning)\n\u001b[0;32m     71\u001b[0m         \u001b[0mkwargs\u001b[0m\u001b[1;33m.\u001b[0m\u001b[0mupdate\u001b[0m\u001b[1;33m(\u001b[0m\u001b[1;33m{\u001b[0m\u001b[0mk\u001b[0m\u001b[1;33m:\u001b[0m \u001b[0marg\u001b[0m \u001b[1;32mfor\u001b[0m \u001b[0mk\u001b[0m\u001b[1;33m,\u001b[0m \u001b[0marg\u001b[0m \u001b[1;32min\u001b[0m \u001b[0mzip\u001b[0m\u001b[1;33m(\u001b[0m\u001b[0msig\u001b[0m\u001b[1;33m.\u001b[0m\u001b[0mparameters\u001b[0m\u001b[1;33m,\u001b[0m \u001b[0margs\u001b[0m\u001b[1;33m)\u001b[0m\u001b[1;33m}\u001b[0m\u001b[1;33m)\u001b[0m\u001b[1;33m\u001b[0m\u001b[1;33m\u001b[0m\u001b[0m\n\u001b[1;32m---> 72\u001b[1;33m         \u001b[1;32mreturn\u001b[0m \u001b[0mf\u001b[0m\u001b[1;33m(\u001b[0m\u001b[1;33m**\u001b[0m\u001b[0mkwargs\u001b[0m\u001b[1;33m)\u001b[0m\u001b[1;33m\u001b[0m\u001b[1;33m\u001b[0m\u001b[0m\n\u001b[0m\u001b[0;32m     73\u001b[0m     \u001b[1;32mreturn\u001b[0m \u001b[0minner_f\u001b[0m\u001b[1;33m\u001b[0m\u001b[1;33m\u001b[0m\u001b[0m\n\u001b[0;32m     74\u001b[0m \u001b[1;33m\u001b[0m\u001b[0m\n",
      "\u001b[1;32mC:\\ProgramData\\Anaconda3\\lib\\site-packages\\sklearn\\utils\\validation.py\u001b[0m in \u001b[0;36mcheck_array\u001b[1;34m(array, accept_sparse, accept_large_sparse, dtype, order, copy, force_all_finite, ensure_2d, allow_nd, ensure_min_samples, ensure_min_features, estimator)\u001b[0m\n\u001b[0;32m    596\u001b[0m                     \u001b[0marray\u001b[0m \u001b[1;33m=\u001b[0m \u001b[0marray\u001b[0m\u001b[1;33m.\u001b[0m\u001b[0mastype\u001b[0m\u001b[1;33m(\u001b[0m\u001b[0mdtype\u001b[0m\u001b[1;33m,\u001b[0m \u001b[0mcasting\u001b[0m\u001b[1;33m=\u001b[0m\u001b[1;34m\"unsafe\"\u001b[0m\u001b[1;33m,\u001b[0m \u001b[0mcopy\u001b[0m\u001b[1;33m=\u001b[0m\u001b[1;32mFalse\u001b[0m\u001b[1;33m)\u001b[0m\u001b[1;33m\u001b[0m\u001b[1;33m\u001b[0m\u001b[0m\n\u001b[0;32m    597\u001b[0m                 \u001b[1;32melse\u001b[0m\u001b[1;33m:\u001b[0m\u001b[1;33m\u001b[0m\u001b[1;33m\u001b[0m\u001b[0m\n\u001b[1;32m--> 598\u001b[1;33m                     \u001b[0marray\u001b[0m \u001b[1;33m=\u001b[0m \u001b[0mnp\u001b[0m\u001b[1;33m.\u001b[0m\u001b[0masarray\u001b[0m\u001b[1;33m(\u001b[0m\u001b[0marray\u001b[0m\u001b[1;33m,\u001b[0m \u001b[0morder\u001b[0m\u001b[1;33m=\u001b[0m\u001b[0morder\u001b[0m\u001b[1;33m,\u001b[0m \u001b[0mdtype\u001b[0m\u001b[1;33m=\u001b[0m\u001b[0mdtype\u001b[0m\u001b[1;33m)\u001b[0m\u001b[1;33m\u001b[0m\u001b[1;33m\u001b[0m\u001b[0m\n\u001b[0m\u001b[0;32m    599\u001b[0m             \u001b[1;32mexcept\u001b[0m \u001b[0mComplexWarning\u001b[0m\u001b[1;33m:\u001b[0m\u001b[1;33m\u001b[0m\u001b[1;33m\u001b[0m\u001b[0m\n\u001b[0;32m    600\u001b[0m                 raise ValueError(\"Complex data not supported\\n\"\n",
      "\u001b[1;32mC:\\ProgramData\\Anaconda3\\lib\\site-packages\\numpy\\core\\_asarray.py\u001b[0m in \u001b[0;36masarray\u001b[1;34m(a, dtype, order)\u001b[0m\n\u001b[0;32m     81\u001b[0m \u001b[1;33m\u001b[0m\u001b[0m\n\u001b[0;32m     82\u001b[0m     \"\"\"\n\u001b[1;32m---> 83\u001b[1;33m     \u001b[1;32mreturn\u001b[0m \u001b[0marray\u001b[0m\u001b[1;33m(\u001b[0m\u001b[0ma\u001b[0m\u001b[1;33m,\u001b[0m \u001b[0mdtype\u001b[0m\u001b[1;33m,\u001b[0m \u001b[0mcopy\u001b[0m\u001b[1;33m=\u001b[0m\u001b[1;32mFalse\u001b[0m\u001b[1;33m,\u001b[0m \u001b[0morder\u001b[0m\u001b[1;33m=\u001b[0m\u001b[0morder\u001b[0m\u001b[1;33m)\u001b[0m\u001b[1;33m\u001b[0m\u001b[1;33m\u001b[0m\u001b[0m\n\u001b[0m\u001b[0;32m     84\u001b[0m \u001b[1;33m\u001b[0m\u001b[0m\n\u001b[0;32m     85\u001b[0m \u001b[1;33m\u001b[0m\u001b[0m\n",
      "\u001b[1;31mValueError\u001b[0m: could not convert string to float: 'bowling is the target sport and recreational activity in which a player rolls a ball toward pins or another targets the term bowling usually refers to ten pin bowling though in the United Kingdom and Commonwealth countries bowling could also refer to learn balls in pin bowling the girl is not over penis on a long playing service known as the lane a strike is achieved when all the pain the end of down on the first ball and a square is achieved if all the pins are not over on a second draught'"
     ]
    }
   ],
   "source": []
  },
  {
   "cell_type": "code",
   "execution_count": null,
   "metadata": {},
   "outputs": [],
   "source": []
  },
  {
   "cell_type": "code",
   "execution_count": null,
   "metadata": {},
   "outputs": [],
   "source": []
  },
  {
   "cell_type": "code",
   "execution_count": null,
   "metadata": {},
   "outputs": [],
   "source": []
  },
  {
   "cell_type": "code",
   "execution_count": null,
   "metadata": {},
   "outputs": [],
   "source": []
  },
  {
   "cell_type": "code",
   "execution_count": null,
   "metadata": {},
   "outputs": [],
   "source": []
  },
  {
   "cell_type": "code",
   "execution_count": null,
   "metadata": {},
   "outputs": [],
   "source": []
  }
 ],
 "metadata": {
  "kernelspec": {
   "display_name": "Python 3",
   "language": "python",
   "name": "python3"
  },
  "language_info": {
   "codemirror_mode": {
    "name": "ipython",
    "version": 3
   },
   "file_extension": ".py",
   "mimetype": "text/x-python",
   "name": "python",
   "nbconvert_exporter": "python",
   "pygments_lexer": "ipython3",
   "version": "3.8.5"
  }
 },
 "nbformat": 4,
 "nbformat_minor": 4
}

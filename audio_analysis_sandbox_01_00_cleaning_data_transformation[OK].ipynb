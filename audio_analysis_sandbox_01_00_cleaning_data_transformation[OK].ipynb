{
  "nbformat": 4,
  "nbformat_minor": 0,
  "metadata": {
    "colab": {
      "name": "audio_analysis_sandbox_01_00_cleaning data transformation[OK]",
      "provenance": [],
      "collapsed_sections": [],
      "include_colab_link": true
    },
    "kernelspec": {
      "name": "python3",
      "display_name": "Python 3"
    },
    "accelerator": "GPU"
  },
  "cells": [
    {
      "cell_type": "markdown",
      "metadata": {
        "id": "view-in-github",
        "colab_type": "text"
      },
      "source": [
        "<a href=\"https://colab.research.google.com/github/ImalkaPrasadini/Speaking-Suport/blob/main/audio_analysis_sandbox_01_00_cleaning_data_transformation%5BOK%5D.ipynb\" target=\"_parent\"><img src=\"https://colab.research.google.com/assets/colab-badge.svg\" alt=\"Open In Colab\"/></a>"
      ]
    },
    {
      "cell_type": "code",
      "metadata": {
        "id": "Yk3-GS7kzaZ6",
        "colab": {
          "base_uri": "https://localhost:8080/",
          "height": 134
        },
        "outputId": "112b40eb-eabb-49b7-9ae0-c5c02afa45cd"
      },
      "source": [
        "! git clone https://github.com/Angeluz-07/audio-processing-files.git\n",
        "! ls"
      ],
      "execution_count": null,
      "outputs": [
        {
          "output_type": "stream",
          "text": [
            "Cloning into 'audio-processing-files'...\n",
            "remote: Enumerating objects: 139, done.\u001b[K\n",
            "remote: Total 139 (delta 0), reused 0 (delta 0), pack-reused 139\u001b[K\n",
            "Receiving objects: 100% (139/139), 337.79 MiB | 43.61 MiB/s, done.\n",
            "Resolving deltas: 100% (2/2), done.\n",
            "Checking out files: 100% (129/129), done.\n",
            "audio-processing-files\tsample_data\n"
          ],
          "name": "stdout"
        }
      ]
    },
    {
      "cell_type": "code",
      "metadata": {
        "id": "KkQpw3JNxByy",
        "colab": {
          "base_uri": "https://localhost:8080/",
          "height": 50
        },
        "outputId": "4006e8f4-f5ef-4ee5-add2-efdd80aaf579"
      },
      "source": [
        "from glob import glob\n",
        "\n",
        "#NOTE: the word 'normal' used in this notebook doesn't imply a normal distribution, is just used to denote non-anomalous examples\n",
        "\n",
        "#directories of normal and abnormal audios\n",
        "norm_data_dir = './audio-processing-files/normals/'\n",
        "norm_audio_files = glob(norm_data_dir  + '*.mp3')\n",
        "\n",
        "abnorm_data_dir = './audio-processing-files/abnormals/'\n",
        "abnorm_audio_files = glob(abnorm_data_dir + '*.mp3')\n",
        "\n",
        "'''\n",
        "WARNING : \n",
        "    glob library doesn't retrieve files on specific order. Be sure to control the order when retrieving\n",
        "    production data in order to ensure a reproducible model.\n",
        "'''\n",
        "\n",
        "print(f'Number of normal audios : {len(norm_audio_files)}')\n",
        "print(f'Number of abnormal audios : {len(abnorm_audio_files )}')"
      ],
      "execution_count": null,
      "outputs": [
        {
          "output_type": "stream",
          "text": [
            "Number of normal audios : 123\n",
            "Number of abnormal audios : 4\n"
          ],
          "name": "stdout"
        }
      ]
    },
    {
      "cell_type": "code",
      "metadata": {
        "id": "PqnnaFccxOPY"
      },
      "source": [
        "import librosa\n",
        "from librosa import feature\n",
        "import numpy as np\n",
        "\n",
        "fn_list_i = [\n",
        "    feature.chroma_stft,\n",
        "    feature.spectral_centroid,\n",
        "    feature.spectral_bandwidth,\n",
        "    feature.spectral_rolloff\n",
        "]\n",
        "  \n",
        "fn_list_ii = [\n",
        "    feature.rmse,\n",
        "    feature.zero_crossing_rate\n",
        "]\n",
        "\n",
        "def get_feature_vector(y,sr):  \n",
        "  feat_vect_i = [ np.mean(funct(y,sr)) for funct in fn_list_i]\n",
        "  feat_vect_ii = [ np.mean(funct(y)) for funct in fn_list_ii]\n",
        "  \n",
        "  feature_vector =   feat_vect_i + feat_vect_ii  \n",
        "  return feature_vector\n"
      ],
      "execution_count": null,
      "outputs": []
    },
    {
      "cell_type": "code",
      "metadata": {
        "id": "zJZuC3LZxclH",
        "colab": {
          "base_uri": "https://localhost:8080/",
          "height": 53
        },
        "outputId": "d5a1b159-7135-472b-b05e-d70298147497"
      },
      "source": [
        "#build the matrix with normal audios featurized\n",
        "norm_audios_feat = []\n",
        "for file in norm_audio_files:\n",
        "  '''\n",
        "  y is the time series array of the audio file, a 1D np.ndarray\n",
        "  sr is the sampling rate, a number\n",
        "  '''  \n",
        "  y,sr = librosa.load(file,sr=None)   \n",
        "  feature_vector = get_feature_vector(y, sr) \n",
        "  norm_audios_feat.append(feature_vector)  \n",
        "  print('.', end= \" \")"
      ],
      "execution_count": null,
      "outputs": [
        {
          "output_type": "stream",
          "text": [
            ". . . . . . . . . . . . . . . . . . . . . . . . . . . . . . . . . . . . . . . . . . . . . . . . . . . . . . . . . . . . . . . . . . . . . . . . . . . . . . . . . . . . . . . . . . . . . . . . . . . . . . . . . . . . . . . . . . . . . . . . . . . "
          ],
          "name": "stdout"
        }
      ]
    },
    {
      "cell_type": "code",
      "metadata": {
        "id": "AB4GHmIcNsuF",
        "colab": {
          "base_uri": "https://localhost:8080/",
          "height": 33
        },
        "outputId": "1f1d4434-bb83-412d-cddc-ab028a9a42dd"
      },
      "source": [
        "#build the matrix with abnormal audios featurized\n",
        "abnorm_audios_feat = []\n",
        "for file in abnorm_audio_files:\n",
        "  '''\n",
        "  y is the time series array of the audio file, a 1D np.ndarray\n",
        "  sr is the sampling rate, a number\n",
        "  '''  \n",
        "  y,sr = librosa.load(file,sr=None)   \n",
        "  feature_vector = get_feature_vector(y, sr) \n",
        "  abnorm_audios_feat.append(feature_vector)  \n",
        "  print('.', end= \" \")"
      ],
      "execution_count": null,
      "outputs": [
        {
          "output_type": "stream",
          "text": [
            ". . . . "
          ],
          "name": "stdout"
        }
      ]
    },
    {
      "cell_type": "code",
      "metadata": {
        "id": "icpen_rgQEQy",
        "colab": {
          "base_uri": "https://localhost:8080/",
          "height": 53
        },
        "outputId": "1cc91ecf-a948-443d-ca67-e3e6d08278c2"
      },
      "source": [
        "print(abnorm_audios_feat)"
      ],
      "execution_count": null,
      "outputs": [
        {
          "output_type": "stream",
          "text": [
            "[[0.7718201803134808, 3857.3802199910865, 4293.630781210073, 9070.427230172729, 0.109509796, 0.04681911172560153], [0.2782302712297932, 1322.8916093841008, 1424.9556787681022, 2470.250992748619, 0.017103203, 0.028398545407458564], [0.6024075325511764, 2266.565170501961, 3032.44088379111, 4382.711420114543, 0.037652474, 0.050752680352393616], [0.7294186554346462, 3064.4747224207513, 3366.6397778524533, 6826.898934155467, 0.0598076, 0.05093524701362549]]\n"
          ],
          "name": "stdout"
        }
      ]
    },
    {
      "cell_type": "code",
      "metadata": {
        "id": "Qql0Jttry8Xw"
      },
      "source": [
        "import csv\n",
        "\n",
        "norm_output = 'normals_00.csv'\n",
        "abnorm_output = 'abnormals_00.csv'\n",
        "\n",
        "header =[\n",
        "    'chroma_stft',\n",
        "    'spectral_centroid',\n",
        "    'spectral_bandwidth',\n",
        "    'spectral_rolloff',\n",
        "    'rmse',\n",
        "    'zero_crossing_rate'\n",
        "]\n",
        "\n",
        "#WARNING : this overwrites the file each time. Be aware of this because feature extraction step takes time.\n",
        "with open(norm_output,'+w') as f:\n",
        "  csv_writer = csv.writer(f, delimiter = ',')\n",
        "  csv_writer.writerow(header)\n",
        "  csv_writer.writerows(norm_audios_feat)\n",
        "\n",
        "with open(abnorm_output,'+w') as f:\n",
        "  csv_writer = csv.writer(f, delimiter = ',')\n",
        "  csv_writer.writerow(header)\n",
        "  csv_writer.writerows(abnorm_audios_feat)"
      ],
      "execution_count": null,
      "outputs": []
    },
    {
      "cell_type": "code",
      "metadata": {
        "id": "bvrKrSsPRM1J",
        "colab": {
          "base_uri": "https://localhost:8080/",
          "height": 33
        },
        "outputId": "ff0e1ebb-f192-4d77-e24b-e16ee6a3c81f"
      },
      "source": [
        ""
      ],
      "execution_count": null,
      "outputs": [
        {
          "output_type": "stream",
          "text": [
            "abnormals_00.csv  audio-processing-files  normals_00.csv  sample_data\n"
          ],
          "name": "stdout"
        }
      ]
    }
  ]
}
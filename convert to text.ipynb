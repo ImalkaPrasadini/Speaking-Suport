{
 "cells": [
  {
   "cell_type": "code",
   "execution_count": 4,
   "metadata": {},
   "outputs": [
    {
     "name": "stdout",
     "output_type": "stream",
     "text": [
      "Collecting SpeechRecognition\n",
      "  Using cached SpeechRecognition-3.8.1-py2.py3-none-any.whl (32.8 MB)\n",
      "Installing collected packages: SpeechRecognition\n",
      "Successfully installed SpeechRecognition-3.8.1\n"
     ]
    }
   ],
   "source": [
    "!pip install SpeechRecognition"
   ]
  },
  {
   "cell_type": "code",
   "execution_count": 6,
   "metadata": {},
   "outputs": [
    {
     "name": "stdout",
     "output_type": "stream",
     "text": [
      "Collecting pydub\n",
      "  Using cached pydub-0.25.1-py2.py3-none-any.whl (32 kB)\n",
      "Installing collected packages: pydub\n",
      "Successfully installed pydub-0.25.1\n"
     ]
    }
   ],
   "source": [
    "!pip install pydub"
   ]
  },
  {
   "cell_type": "code",
   "execution_count": 1,
   "metadata": {},
   "outputs": [
    {
     "name": "stderr",
     "output_type": "stream",
     "text": [
      "C:\\ProgramData\\Anaconda3\\lib\\site-packages\\pydub\\utils.py:170: RuntimeWarning: Couldn't find ffmpeg or avconv - defaulting to ffmpeg, but may not work\n",
      "  warn(\"Couldn't find ffmpeg or avconv - defaulting to ffmpeg, but may not work\", RuntimeWarning)\n"
     ]
    }
   ],
   "source": [
    "# importing libraries\n",
    "import speech_recognition as sr\n",
    "\n",
    "import os\n",
    "\n",
    "from pydub import AudioSegment\n",
    "from pydub.silence import split_on_silence"
   ]
  },
  {
   "cell_type": "code",
   "execution_count": 3,
   "metadata": {},
   "outputs": [
    {
     "name": "stdout",
     "output_type": "stream",
     "text": [
      "working on...\n",
      "bowling is the target sport and recreational activity in which a player rolls a ball toward pins or another targets the term bowling usually refers to ten pin bowling though in the United Kingdom and Commonwealth countries bowling could also refer to learn balls in pin bowling the girl is not over penis on a long playing service known as the lane a strike is achieved when all the pain the end of down on the first ball and a square is achieved if all the pins are not over on a second draught\n"
     ]
    }
   ],
   "source": [
    "import speech_recognition as sr\n",
    "\n",
    "r = sr.Recognizer()\n",
    "\n",
    "with sr.AudioFile('S1_P1_F.wav') as source:\n",
    "    audio = r.listen(source)\n",
    "    try:\n",
    "       text = r.recognize_google(audio)\n",
    "       print('working on...')\n",
    "       print(text)\n",
    "    except:\n",
    "       print('Sorry...run again...')"
   ]
  },
  {
   "cell_type": "code",
   "execution_count": 7,
   "metadata": {},
   "outputs": [],
   "source": [
    "sentence = \"bowling is the target sport and recreational activity in which a player rolls a ball toward pins or another targets the term bowling usually refers to ten pin bowling though in the United Kingdom and Commonwealth countries bowling could also refer to learn balls in pin bowling the girl is not over penis on a long playing service known as the lane a strike is achieved when all the pain the end of down on the first ball and a square is achieved if all the pins are not over on a second draught\".split()"
   ]
  },
  {
   "cell_type": "code",
   "execution_count": 13,
   "metadata": {},
   "outputs": [],
   "source": [
    "N = 10"
   ]
  },
  {
   "cell_type": "code",
   "execution_count": 14,
   "metadata": {},
   "outputs": [],
   "source": [
    "xrange=range\n",
    "grams = [sentence[i:i+N] for i in xrange(len(sentence)-N+1)]"
   ]
  },
  {
   "cell_type": "code",
   "execution_count": 15,
   "metadata": {},
   "outputs": [
    {
     "name": "stdout",
     "output_type": "stream",
     "text": [
      "['bowling', 'is', 'the', 'target', 'sport', 'and', 'recreational', 'activity', 'in', 'which']\n",
      "['is', 'the', 'target', 'sport', 'and', 'recreational', 'activity', 'in', 'which', 'a']\n",
      "['the', 'target', 'sport', 'and', 'recreational', 'activity', 'in', 'which', 'a', 'player']\n",
      "['target', 'sport', 'and', 'recreational', 'activity', 'in', 'which', 'a', 'player', 'rolls']\n",
      "['sport', 'and', 'recreational', 'activity', 'in', 'which', 'a', 'player', 'rolls', 'a']\n",
      "['and', 'recreational', 'activity', 'in', 'which', 'a', 'player', 'rolls', 'a', 'ball']\n",
      "['recreational', 'activity', 'in', 'which', 'a', 'player', 'rolls', 'a', 'ball', 'toward']\n",
      "['activity', 'in', 'which', 'a', 'player', 'rolls', 'a', 'ball', 'toward', 'pins']\n",
      "['in', 'which', 'a', 'player', 'rolls', 'a', 'ball', 'toward', 'pins', 'or']\n",
      "['which', 'a', 'player', 'rolls', 'a', 'ball', 'toward', 'pins', 'or', 'another']\n",
      "['a', 'player', 'rolls', 'a', 'ball', 'toward', 'pins', 'or', 'another', 'targets']\n",
      "['player', 'rolls', 'a', 'ball', 'toward', 'pins', 'or', 'another', 'targets', 'the']\n",
      "['rolls', 'a', 'ball', 'toward', 'pins', 'or', 'another', 'targets', 'the', 'term']\n",
      "['a', 'ball', 'toward', 'pins', 'or', 'another', 'targets', 'the', 'term', 'bowling']\n",
      "['ball', 'toward', 'pins', 'or', 'another', 'targets', 'the', 'term', 'bowling', 'usually']\n",
      "['toward', 'pins', 'or', 'another', 'targets', 'the', 'term', 'bowling', 'usually', 'refers']\n",
      "['pins', 'or', 'another', 'targets', 'the', 'term', 'bowling', 'usually', 'refers', 'to']\n",
      "['or', 'another', 'targets', 'the', 'term', 'bowling', 'usually', 'refers', 'to', 'ten']\n",
      "['another', 'targets', 'the', 'term', 'bowling', 'usually', 'refers', 'to', 'ten', 'pin']\n",
      "['targets', 'the', 'term', 'bowling', 'usually', 'refers', 'to', 'ten', 'pin', 'bowling']\n",
      "['the', 'term', 'bowling', 'usually', 'refers', 'to', 'ten', 'pin', 'bowling', 'though']\n",
      "['term', 'bowling', 'usually', 'refers', 'to', 'ten', 'pin', 'bowling', 'though', 'in']\n",
      "['bowling', 'usually', 'refers', 'to', 'ten', 'pin', 'bowling', 'though', 'in', 'the']\n",
      "['usually', 'refers', 'to', 'ten', 'pin', 'bowling', 'though', 'in', 'the', 'United']\n",
      "['refers', 'to', 'ten', 'pin', 'bowling', 'though', 'in', 'the', 'United', 'Kingdom']\n",
      "['to', 'ten', 'pin', 'bowling', 'though', 'in', 'the', 'United', 'Kingdom', 'and']\n",
      "['ten', 'pin', 'bowling', 'though', 'in', 'the', 'United', 'Kingdom', 'and', 'Commonwealth']\n",
      "['pin', 'bowling', 'though', 'in', 'the', 'United', 'Kingdom', 'and', 'Commonwealth', 'countries']\n",
      "['bowling', 'though', 'in', 'the', 'United', 'Kingdom', 'and', 'Commonwealth', 'countries', 'bowling']\n",
      "['though', 'in', 'the', 'United', 'Kingdom', 'and', 'Commonwealth', 'countries', 'bowling', 'could']\n",
      "['in', 'the', 'United', 'Kingdom', 'and', 'Commonwealth', 'countries', 'bowling', 'could', 'also']\n",
      "['the', 'United', 'Kingdom', 'and', 'Commonwealth', 'countries', 'bowling', 'could', 'also', 'refer']\n",
      "['United', 'Kingdom', 'and', 'Commonwealth', 'countries', 'bowling', 'could', 'also', 'refer', 'to']\n",
      "['Kingdom', 'and', 'Commonwealth', 'countries', 'bowling', 'could', 'also', 'refer', 'to', 'learn']\n",
      "['and', 'Commonwealth', 'countries', 'bowling', 'could', 'also', 'refer', 'to', 'learn', 'balls']\n",
      "['Commonwealth', 'countries', 'bowling', 'could', 'also', 'refer', 'to', 'learn', 'balls', 'in']\n",
      "['countries', 'bowling', 'could', 'also', 'refer', 'to', 'learn', 'balls', 'in', 'pin']\n",
      "['bowling', 'could', 'also', 'refer', 'to', 'learn', 'balls', 'in', 'pin', 'bowling']\n",
      "['could', 'also', 'refer', 'to', 'learn', 'balls', 'in', 'pin', 'bowling', 'the']\n",
      "['also', 'refer', 'to', 'learn', 'balls', 'in', 'pin', 'bowling', 'the', 'girl']\n",
      "['refer', 'to', 'learn', 'balls', 'in', 'pin', 'bowling', 'the', 'girl', 'is']\n",
      "['to', 'learn', 'balls', 'in', 'pin', 'bowling', 'the', 'girl', 'is', 'not']\n",
      "['learn', 'balls', 'in', 'pin', 'bowling', 'the', 'girl', 'is', 'not', 'over']\n",
      "['balls', 'in', 'pin', 'bowling', 'the', 'girl', 'is', 'not', 'over', 'penis']\n",
      "['in', 'pin', 'bowling', 'the', 'girl', 'is', 'not', 'over', 'penis', 'on']\n",
      "['pin', 'bowling', 'the', 'girl', 'is', 'not', 'over', 'penis', 'on', 'a']\n",
      "['bowling', 'the', 'girl', 'is', 'not', 'over', 'penis', 'on', 'a', 'long']\n",
      "['the', 'girl', 'is', 'not', 'over', 'penis', 'on', 'a', 'long', 'playing']\n",
      "['girl', 'is', 'not', 'over', 'penis', 'on', 'a', 'long', 'playing', 'service']\n",
      "['is', 'not', 'over', 'penis', 'on', 'a', 'long', 'playing', 'service', 'known']\n",
      "['not', 'over', 'penis', 'on', 'a', 'long', 'playing', 'service', 'known', 'as']\n",
      "['over', 'penis', 'on', 'a', 'long', 'playing', 'service', 'known', 'as', 'the']\n",
      "['penis', 'on', 'a', 'long', 'playing', 'service', 'known', 'as', 'the', 'lane']\n",
      "['on', 'a', 'long', 'playing', 'service', 'known', 'as', 'the', 'lane', 'a']\n",
      "['a', 'long', 'playing', 'service', 'known', 'as', 'the', 'lane', 'a', 'strike']\n",
      "['long', 'playing', 'service', 'known', 'as', 'the', 'lane', 'a', 'strike', 'is']\n",
      "['playing', 'service', 'known', 'as', 'the', 'lane', 'a', 'strike', 'is', 'achieved']\n",
      "['service', 'known', 'as', 'the', 'lane', 'a', 'strike', 'is', 'achieved', 'when']\n",
      "['known', 'as', 'the', 'lane', 'a', 'strike', 'is', 'achieved', 'when', 'all']\n",
      "['as', 'the', 'lane', 'a', 'strike', 'is', 'achieved', 'when', 'all', 'the']\n",
      "['the', 'lane', 'a', 'strike', 'is', 'achieved', 'when', 'all', 'the', 'pain']\n",
      "['lane', 'a', 'strike', 'is', 'achieved', 'when', 'all', 'the', 'pain', 'the']\n",
      "['a', 'strike', 'is', 'achieved', 'when', 'all', 'the', 'pain', 'the', 'end']\n",
      "['strike', 'is', 'achieved', 'when', 'all', 'the', 'pain', 'the', 'end', 'of']\n",
      "['is', 'achieved', 'when', 'all', 'the', 'pain', 'the', 'end', 'of', 'down']\n",
      "['achieved', 'when', 'all', 'the', 'pain', 'the', 'end', 'of', 'down', 'on']\n",
      "['when', 'all', 'the', 'pain', 'the', 'end', 'of', 'down', 'on', 'the']\n",
      "['all', 'the', 'pain', 'the', 'end', 'of', 'down', 'on', 'the', 'first']\n",
      "['the', 'pain', 'the', 'end', 'of', 'down', 'on', 'the', 'first', 'ball']\n",
      "['pain', 'the', 'end', 'of', 'down', 'on', 'the', 'first', 'ball', 'and']\n",
      "['the', 'end', 'of', 'down', 'on', 'the', 'first', 'ball', 'and', 'a']\n",
      "['end', 'of', 'down', 'on', 'the', 'first', 'ball', 'and', 'a', 'square']\n",
      "['of', 'down', 'on', 'the', 'first', 'ball', 'and', 'a', 'square', 'is']\n",
      "['down', 'on', 'the', 'first', 'ball', 'and', 'a', 'square', 'is', 'achieved']\n",
      "['on', 'the', 'first', 'ball', 'and', 'a', 'square', 'is', 'achieved', 'if']\n",
      "['the', 'first', 'ball', 'and', 'a', 'square', 'is', 'achieved', 'if', 'all']\n",
      "['first', 'ball', 'and', 'a', 'square', 'is', 'achieved', 'if', 'all', 'the']\n",
      "['ball', 'and', 'a', 'square', 'is', 'achieved', 'if', 'all', 'the', 'pins']\n",
      "['and', 'a', 'square', 'is', 'achieved', 'if', 'all', 'the', 'pins', 'are']\n",
      "['a', 'square', 'is', 'achieved', 'if', 'all', 'the', 'pins', 'are', 'not']\n",
      "['square', 'is', 'achieved', 'if', 'all', 'the', 'pins', 'are', 'not', 'over']\n",
      "['is', 'achieved', 'if', 'all', 'the', 'pins', 'are', 'not', 'over', 'on']\n",
      "['achieved', 'if', 'all', 'the', 'pins', 'are', 'not', 'over', 'on', 'a']\n",
      "['if', 'all', 'the', 'pins', 'are', 'not', 'over', 'on', 'a', 'second']\n",
      "['all', 'the', 'pins', 'are', 'not', 'over', 'on', 'a', 'second', 'draught']\n"
     ]
    }
   ],
   "source": [
    "for gram in grams: print (gram)"
   ]
  },
  {
   "cell_type": "code",
   "execution_count": null,
   "metadata": {},
   "outputs": [],
   "source": []
  }
 ],
 "metadata": {
  "kernelspec": {
   "display_name": "Python 3",
   "language": "python",
   "name": "python3"
  },
  "language_info": {
   "codemirror_mode": {
    "name": "ipython",
    "version": 3
   },
   "file_extension": ".py",
   "mimetype": "text/x-python",
   "name": "python",
   "nbconvert_exporter": "python",
   "pygments_lexer": "ipython3",
   "version": "3.8.5"
  }
 },
 "nbformat": 4,
 "nbformat_minor": 4
}

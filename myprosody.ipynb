{
 "cells": [
  {
   "cell_type": "code",
   "execution_count": 11,
   "id": "6ce34441",
   "metadata": {},
   "outputs": [
    {
     "name": "stdout",
     "output_type": "stream",
     "text": [
      "Requirement already satisfied: myprosody in c:\\users\\acer\\.conda\\envs\\tensorflow\\lib\\site-packages (20)\n",
      "Requirement already satisfied: pickleshare>=0.7.5 in c:\\users\\acer\\.conda\\envs\\tensorflow\\lib\\site-packages (from myprosody) (0.7.5)\n",
      "Requirement already satisfied: scipy>=1.1.0 in c:\\users\\acer\\.conda\\envs\\tensorflow\\lib\\site-packages (from myprosody) (1.6.2)\n",
      "Requirement already satisfied: pandas>=0.23.4 in c:\\users\\acer\\.conda\\envs\\tensorflow\\lib\\site-packages (from myprosody) (1.2.3)\n",
      "Requirement already satisfied: praat-parselmouth>=0.3.2 in c:\\users\\acer\\.conda\\envs\\tensorflow\\lib\\site-packages (from myprosody) (0.4.0)\n",
      "Requirement already satisfied: scikit-learn>=0.20.2 in c:\\users\\acer\\.conda\\envs\\tensorflow\\lib\\site-packages (from myprosody) (0.24.2)\n",
      "Requirement already satisfied: numpy>=1.15.2 in c:\\users\\acer\\.conda\\envs\\tensorflow\\lib\\site-packages (from myprosody) (1.19.2)\n",
      "Requirement already satisfied: pytz>=2017.3 in c:\\users\\acer\\.conda\\envs\\tensorflow\\lib\\site-packages (from pandas>=0.23.4->myprosody) (2021.1)\n",
      "Requirement already satisfied: python-dateutil>=2.7.3 in c:\\users\\acer\\.conda\\envs\\tensorflow\\lib\\site-packages (from pandas>=0.23.4->myprosody) (2.8.1)\n",
      "Requirement already satisfied: six>=1.5 in c:\\users\\acer\\appdata\\roaming\\python\\python38\\site-packages (from python-dateutil>=2.7.3->pandas>=0.23.4->myprosody) (1.15.0)\n",
      "Requirement already satisfied: joblib>=0.11 in c:\\users\\acer\\.conda\\envs\\tensorflow\\lib\\site-packages (from scikit-learn>=0.20.2->myprosody) (1.0.1)\n",
      "Requirement already satisfied: threadpoolctl>=2.0.0 in c:\\users\\acer\\.conda\\envs\\tensorflow\\lib\\site-packages (from scikit-learn>=0.20.2->myprosody) (2.1.0)\n"
     ]
    }
   ],
   "source": [
    "!pip install myprosody"
   ]
  },
  {
   "cell_type": "code",
   "execution_count": 18,
   "id": "582801c5",
   "metadata": {},
   "outputs": [
    {
     "name": "stdout",
     "output_type": "stream",
     "text": [
      "[]\n",
      "Pronunciation_posteriori_probability_score_percentage= :84.98\n"
     ]
    }
   ],
   "source": [
    "# import myspsolution as mysp\n",
    "\n",
    "mysp = __import__(\"my-voice-analysis\")\n",
    "\n",
    "p =\"Paragraph 1\" # Audio File title\n",
    "c = r\"C:\\Users\\Acer\\Documents\\FYP\\New folder\\p1\" # Path to the Audio_File directory (Python 3.7)\n",
    "\n",
    "# Pronunciation posteriori probability score percentage:\n",
    "\n",
    "mysp.mysppron(p,c)\n",
    "                       "
   ]
  },
  {
   "cell_type": "code",
   "execution_count": 19,
   "id": "733eb0ee",
   "metadata": {},
   "outputs": [
    {
     "name": "stdout",
     "output_type": "stream",
     "text": [
      "[]\n",
      "a female, mood of speech: speaking passionately, p-value/sample size= :0.00 5\n"
     ]
    }
   ],
   "source": [
    "# Gender recognition and mood of speech\n",
    "\n",
    "mysp.myspgend(p,c)"
   ]
  },
  {
   "cell_type": "code",
   "execution_count": 20,
   "id": "4e633e4e",
   "metadata": {},
   "outputs": [
    {
     "name": "stdout",
     "output_type": "stream",
     "text": [
      "[]\n",
      "number_ of_syllables= 140\n"
     ]
    }
   ],
   "source": [
    "# Detect and count number of syllables: Function myspsyl(p,c)\n",
    "\n",
    "mysp.myspsyl(p,c)"
   ]
  },
  {
   "cell_type": "code",
   "execution_count": 21,
   "id": "a0260866",
   "metadata": {},
   "outputs": [
    {
     "name": "stdout",
     "output_type": "stream",
     "text": [
      "[]\n",
      "number_of_pauses= 10\n"
     ]
    }
   ],
   "source": [
    "# Detect and count number of fillers and pauses: Function mysppaus(p,c)\n",
    "\n",
    "mysp.mysppaus(p,c)"
   ]
  },
  {
   "cell_type": "code",
   "execution_count": 22,
   "id": "a1014500",
   "metadata": {},
   "outputs": [
    {
     "name": "stdout",
     "output_type": "stream",
     "text": [
      "[]\n",
      "rate_of_speech= 3 # syllables/sec original duration\n"
     ]
    }
   ],
   "source": [
    "# Measure the rate of speech (speed): Function myspsr(p,c)\n",
    "\n",
    "mysp.myspsr(p,c)"
   ]
  },
  {
   "cell_type": "code",
   "execution_count": 23,
   "id": "a57cf118",
   "metadata": {},
   "outputs": [
    {
     "name": "stdout",
     "output_type": "stream",
     "text": [
      "[]\n",
      "articulation_rate= 5 # syllables/sec speaking duration\n"
     ]
    }
   ],
   "source": [
    "# Measure the articulation (speed): Function myspatc(p,c)\n",
    "\n",
    "mysp.myspatc(p,c)"
   ]
  },
  {
   "cell_type": "code",
   "execution_count": 24,
   "id": "f3f3580a",
   "metadata": {},
   "outputs": [
    {
     "name": "stdout",
     "output_type": "stream",
     "text": [
      "[]\n",
      "speaking_duration= 31.1 # sec only speaking duration without pauses\n"
     ]
    }
   ],
   "source": [
    "# Measure speaking time (excl. fillers and pause): Function myspst(p,c)\n",
    "\n",
    "mysp.myspst(p,c)"
   ]
  },
  {
   "cell_type": "code",
   "execution_count": 25,
   "id": "3f33e313",
   "metadata": {},
   "outputs": [
    {
     "name": "stdout",
     "output_type": "stream",
     "text": [
      "[]\n",
      "original_duration= 43.6 # sec total speaking duration with pauses\n"
     ]
    }
   ],
   "source": [
    "# Measure total speaking duration (inc. fillers and pauses): Function myspod(p,c)\n",
    "\n",
    "mysp.myspod(p,c)"
   ]
  },
  {
   "cell_type": "code",
   "execution_count": 26,
   "id": "01b13a82",
   "metadata": {},
   "outputs": [
    {
     "name": "stdout",
     "output_type": "stream",
     "text": [
      "[]\n",
      "balance= 0.7 # ratio (speaking duration)/(original duration)\n"
     ]
    }
   ],
   "source": [
    "# Measure ratio between speaking duration and total speaking duration: Function myspbala(p,c)\n",
    "\n",
    "mysp.myspbala(p,c)"
   ]
  },
  {
   "cell_type": "code",
   "execution_count": 27,
   "id": "918d9f9b",
   "metadata": {},
   "outputs": [
    {
     "name": "stdout",
     "output_type": "stream",
     "text": [
      "[]\n",
      "f0_mean= 227.81 # Hz global mean of fundamental frequency distribution\n"
     ]
    }
   ],
   "source": [
    "# Measure fundamental frequency distribution mean: Function myspf0mean(p,c)\n",
    "\n",
    "mysp.myspf0mean(p,c)"
   ]
  },
  {
   "cell_type": "code",
   "execution_count": 28,
   "id": "b084047e",
   "metadata": {},
   "outputs": [
    {
     "name": "stdout",
     "output_type": "stream",
     "text": [
      "[]\n",
      "f0_SD= 55.73 # Hz global standard deviation of fundamental frequency distribution\n"
     ]
    }
   ],
   "source": [
    "# Measure fundamental frequency distribution SD: Function myspf0sd(p,c)\n",
    "\n",
    "mysp.myspf0sd(p,c)"
   ]
  },
  {
   "cell_type": "code",
   "execution_count": 29,
   "id": "09594b16",
   "metadata": {},
   "outputs": [
    {
     "name": "stdout",
     "output_type": "stream",
     "text": [
      "[]\n",
      "f0_MD= 219.0 # Hz global median of fundamental frequency distribution\n"
     ]
    }
   ],
   "source": [
    "# Measure fundamental frequency distribution median: Function myspf0med(p,c)\n",
    "\n",
    "mysp.myspf0med(p,c)"
   ]
  },
  {
   "cell_type": "code",
   "execution_count": 30,
   "id": "cebcd201",
   "metadata": {},
   "outputs": [
    {
     "name": "stdout",
     "output_type": "stream",
     "text": [
      "[]\n",
      "f0_min= 73 # Hz global minimum of fundamental frequency distribution\n"
     ]
    }
   ],
   "source": [
    "# Measure fundamental frequency distribution minimum: Function myspf0min(p,c)\n",
    "\n",
    "mysp.myspf0min(p,c)"
   ]
  },
  {
   "cell_type": "code",
   "execution_count": 31,
   "id": "a1d98c62",
   "metadata": {},
   "outputs": [
    {
     "name": "stdout",
     "output_type": "stream",
     "text": [
      "[]\n",
      "f0_max= 418 # Hz global maximum of fundamental frequency distribution\n"
     ]
    }
   ],
   "source": [
    "# Measure fundamental frequency distribution maximum: Function myspf0max(p,c)\n",
    "\n",
    "mysp.myspf0max(p,c)"
   ]
  },
  {
   "cell_type": "code",
   "execution_count": 32,
   "id": "aa514802",
   "metadata": {},
   "outputs": [
    {
     "name": "stdout",
     "output_type": "stream",
     "text": [
      "[]\n",
      "f0_quan25= 191 # Hz global 25th quantile of fundamental frequency distribution\n"
     ]
    }
   ],
   "source": [
    "# Measure 25th quantile fundamental frequency distribution: Function myspf0q25(p,c)\n",
    "\n",
    "mysp.myspf0q25(p,c)"
   ]
  },
  {
   "cell_type": "code",
   "execution_count": 33,
   "id": "3f821944",
   "metadata": {},
   "outputs": [
    {
     "name": "stdout",
     "output_type": "stream",
     "text": [
      "[]\n",
      "f0_quan75= 265 # Hz global 75th quantile of fundamental frequency distribution\n"
     ]
    }
   ],
   "source": [
    "# Measure 75th quantile fundamental frequency distribution: Function myspf0q75(p,c)\n",
    "\n",
    "mysp.myspf0q75(p,c)"
   ]
  },
  {
   "cell_type": "code",
   "execution_count": 34,
   "id": "92ff9f87",
   "metadata": {},
   "outputs": [
    {
     "name": "stdout",
     "output_type": "stream",
     "text": [
      "[]\n",
      "                           0\n",
      "number_ of_syllables     140\n",
      "number_of_pauses          10\n",
      "rate_of_speech             3\n",
      "articulation_rate          5\n",
      "speaking_duration       31.1\n",
      "original_duration       43.6\n",
      "balance                  0.7\n",
      "f0_mean               227.81\n",
      "f0_std                 55.73\n",
      "f0_median                219\n",
      "f0_min                    73\n",
      "f0_max                   418\n",
      "f0_quantile25            191\n",
      "f0_quan75                265\n"
     ]
    }
   ],
   "source": [
    "# Overview: Function mysptotal(p,c)\n",
    "\n",
    "mysp.mysptotal(p,c)"
   ]
  },
  {
   "cell_type": "code",
   "execution_count": null,
   "id": "4ef5a83a",
   "metadata": {},
   "outputs": [],
   "source": []
  }
 ],
 "metadata": {
  "kernelspec": {
   "display_name": "Python 3",
   "language": "python",
   "name": "python3"
  },
  "language_info": {
   "codemirror_mode": {
    "name": "ipython",
    "version": 3
   },
   "file_extension": ".py",
   "mimetype": "text/x-python",
   "name": "python",
   "nbconvert_exporter": "python",
   "pygments_lexer": "ipython3",
   "version": "3.8.8"
  }
 },
 "nbformat": 4,
 "nbformat_minor": 5
}

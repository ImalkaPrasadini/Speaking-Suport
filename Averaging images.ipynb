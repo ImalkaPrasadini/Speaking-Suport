{
 "cells": [
  {
   "cell_type": "code",
   "execution_count": 15,
   "metadata": {},
   "outputs": [
    {
     "data": {
      "text/plain": [
       "True"
      ]
     },
     "execution_count": 15,
     "metadata": {},
     "output_type": "execute_result"
    }
   ],
   "source": [
    "# Blending multiple images to gey average image for blob iamges of each para \n",
    "import glob\n",
    "import numpy as np\n",
    "import cv2\n",
    " \n",
    "\n",
    "#select path\n",
    "path = \"expert/bw blob/para13/*.*\"\n",
    "# F:\\project\\expert\\bw blob\\para1\n",
    "\n",
    "# Import all image files with the .jpg extension\n",
    "files = glob.glob (\"*.png\")\n",
    "image_data = []\n",
    "# for my_file in files:\n",
    "for file in glob.glob(path):\n",
    "    this_image = cv2.imread(file, 1)\n",
    "    image_data.append(this_image)\n",
    " \n",
    "# Calculate blended image\n",
    "dst = image_data[0]\n",
    "for i in range(len(image_data)):\n",
    "    if i == 0:\n",
    "        pass\n",
    "    else:\n",
    "        alpha = 1.0/(i + 1)\n",
    "        beta = 1.0 - alpha\n",
    "        dst = cv2.addWeighted(image_data[i], alpha, dst, beta, 0.0)\n",
    " \n",
    "# Save blended image\n",
    "cv2.imwrite('expert/averaged/final-expert-blob/para13.png', dst)"
   ]
  },
  {
   "cell_type": "code",
   "execution_count": null,
   "metadata": {},
   "outputs": [],
   "source": []
  },
  {
   "cell_type": "code",
   "execution_count": 25,
   "metadata": {},
   "outputs": [
    {
     "data": {
      "text/plain": [
       "True"
      ]
     },
     "execution_count": 25,
     "metadata": {},
     "output_type": "execute_result"
    }
   ],
   "source": [
    "# Blending multiple images to gey average image for key point iamges of each para \n",
    " \n",
    "import glob\n",
    "import numpy as np\n",
    "import cv2\n",
    " \n",
    "\n",
    "#select path\n",
    "path = \"expert/key-points/para13/*.*\"\n",
    "# F:\\project\\expert\\bw blob\\para1\n",
    "\n",
    "# Import all image files with the .jpg extension\n",
    "files = glob.glob (\"*.png\")\n",
    "image_data = []\n",
    "# for my_file in files:\n",
    "for file in glob.glob(path):\n",
    "    this_image = cv2.imread(file, 1)\n",
    "    image_data.append(this_image)\n",
    " \n",
    "# Calculate blended image\n",
    "dst = image_data[0]\n",
    "for i in range(len(image_data)):\n",
    "    if i == 0:\n",
    "        pass\n",
    "    else:\n",
    "        alpha = 1.0/(i + 1)\n",
    "        beta = 1.0 - alpha\n",
    "        dst = cv2.addWeighted(image_data[i], alpha, dst, beta, 0.0)\n",
    " \n",
    "# Save blended imag2\n",
    "cv2.imwrite('expert/averaged/final-expert-kp/para13.png', dst)"
   ]
  },
  {
   "cell_type": "code",
   "execution_count": null,
   "metadata": {},
   "outputs": [],
   "source": []
  }
 ],
 "metadata": {
  "kernelspec": {
   "display_name": "Python 3",
   "language": "python",
   "name": "python3"
  },
  "language_info": {
   "codemirror_mode": {
    "name": "ipython",
    "version": 3
   },
   "file_extension": ".py",
   "mimetype": "text/x-python",
   "name": "python",
   "nbconvert_exporter": "python",
   "pygments_lexer": "ipython3",
   "version": "3.8.5"
  }
 },
 "nbformat": 4,
 "nbformat_minor": 4
}

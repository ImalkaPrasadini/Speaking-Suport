{
 "cells": [
  {
   "cell_type": "code",
   "execution_count": null,
   "id": "e3ce865f",
   "metadata": {},
   "outputs": [
    {
     "name": "stdout",
     "output_type": "stream",
     "text": [
      "Image written to file-system :  True\n",
      "Image written to file-system :  True\n"
     ]
    }
   ],
   "source": [
    "import cv2\n",
    "import numpy as np;\n",
    "import matplotlib.pyplot as plt\n",
    "\n",
    "# Read image\n",
    "im = cv2.imread(\"Paragraph 1_E3.wav.png\")\n",
    "\n",
    "lower_red = np.array([0,0,160])\n",
    "upper_red = np.array([50,50,255])\n",
    "mask = cv2.inRange(im, lower_red, upper_red)\n",
    "mask = cv2.dilate(mask, None, iterations=5)\n",
    "\n",
    "params = cv2.SimpleBlobDetector_Params()\n",
    " \n",
    "params.filterByColor = True\n",
    "params.blobColor = 255\n",
    "   \n",
    "detector = cv2.SimpleBlobDetector_create(params)\n",
    "\n",
    "reversemask=255-mask\n",
    "keypoints = detector.detect(mask)\n",
    "cnts = cv2.findContours(mask.copy(), cv2.RETR_EXTERNAL, cv2.CHAIN_APPROX_SIMPLE)[-2]\n",
    "im_with_keypoints = cv2.drawKeypoints(im, keypoints, np.array([]), (0,255,0), cv2.DRAW_MATCHES_FLAGS_DRAW_RICH_KEYPOINTS)\n",
    "\n",
    "cv2.imshow('original',im)\n",
    "cv2.imshow('Blob',mask)\n",
    "\n",
    "# save image\n",
    "status = cv2.imwrite('python_mask.png',mask) \n",
    "print(\"Image written to file-system : \",status)\n",
    "\n",
    "cv2.imshow('Keypoint', im_with_keypoints)\n",
    "\n",
    "# save image\n",
    "status = cv2.imwrite('python_grey.png',im_with_keypoints) \n",
    "print(\"Image written to file-system : \",status)\n",
    "\n",
    "cv2.waitKey(0)"
   ]
  },
  {
   "cell_type": "code",
   "execution_count": null,
   "id": "79aafa31",
   "metadata": {},
   "outputs": [],
   "source": []
  }
 ],
 "metadata": {
  "kernelspec": {
   "display_name": "Python 3",
   "language": "python",
   "name": "python3"
  },
  "language_info": {
   "codemirror_mode": {
    "name": "ipython",
    "version": 3
   },
   "file_extension": ".py",
   "mimetype": "text/x-python",
   "name": "python",
   "nbconvert_exporter": "python",
   "pygments_lexer": "ipython3",
   "version": "3.8.8"
  }
 },
 "nbformat": 4,
 "nbformat_minor": 5
}
